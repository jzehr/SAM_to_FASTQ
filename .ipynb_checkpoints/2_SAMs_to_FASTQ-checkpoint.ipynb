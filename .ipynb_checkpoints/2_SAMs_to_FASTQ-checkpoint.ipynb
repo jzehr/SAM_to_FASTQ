{
 "cells": [
  {
   "cell_type": "code",
   "execution_count": 1,
   "metadata": {},
   "outputs": [],
   "source": [
    "import numpy as np\n",
    "import pysam"
   ]
  },
  {
   "cell_type": "markdown",
   "metadata": {},
   "source": [
    "### might not want to read all of these in when the real script runs, too much in memory"
   ]
  },
  {
   "cell_type": "code",
   "execution_count": 4,
   "metadata": {},
   "outputs": [],
   "source": [
    "SAM_FILE_A, SAM_FILE_B, FASTA_FILE = open(\"pol_a.sam\"), open(\"pol_b.sam\"), open(\"pol_truth.fasta\")\n",
    "SAM_DATA_A, SAM_DATA_B, FASTA_DATA = SAM_FILE_A.read(), SAM_FILE_B.read(), FASTA_FILE.read()"
   ]
  },
  {
   "cell_type": "code",
   "execution_count": 8,
   "metadata": {},
   "outputs": [],
   "source": [
    "af_A = pysam.AlignmentFile(SAM_FILE_A, check_sq=False)"
   ]
  },
  {
   "cell_type": "code",
   "execution_count": null,
   "metadata": {},
   "outputs": [],
   "source": []
  },
  {
   "cell_type": "code",
   "execution_count": null,
   "metadata": {},
   "outputs": [],
   "source": []
  }
 ],
 "metadata": {
  "kernelspec": {
   "display_name": "Python 3",
   "language": "python",
   "name": "python3"
  },
  "language_info": {
   "codemirror_mode": {
    "name": "ipython",
    "version": 3
   },
   "file_extension": ".py",
   "mimetype": "text/x-python",
   "name": "python",
   "nbconvert_exporter": "python",
   "pygments_lexer": "ipython3",
   "version": "3.7.4"
  }
 },
 "nbformat": 4,
 "nbformat_minor": 2
}
