{
 "cells": [
  {
   "cell_type": "markdown",
   "metadata": {},
   "source": [
    "### This will walk through the steps necessary to sample from ONE SAM\n",
    "1. read in the SAM file that simulated reads from 2 pol seqs \n",
    "2. sample reads from the SAM and create AR reads\n",
    "3. save variables for each read created\n",
    "4. write all them to a FASTQ"
   ]
  },
  {
   "cell_type": "markdown",
   "metadata": {},
   "source": [
    "### imports"
   ]
  },
  {
   "cell_type": "code",
   "execution_count": 1,
   "metadata": {},
   "outputs": [],
   "source": [
    "import numpy as np\n",
    "import pysam"
   ]
  },
  {
   "cell_type": "code",
   "execution_count": 9,
   "metadata": {},
   "outputs": [],
   "source": [
    "SAM_FILE, FASTA_FILE = open(\"truth.sam\"), open(\"pol_truth.fasta\")\n",
    "SAM_DATA, FASTA_DATA = SAM_FILE.read(), FASTA_FILE.read()"
   ]
  },
  {
   "cell_type": "markdown",
   "metadata": {},
   "source": [
    "### Now that we have the data we want to start the AR infaltion process\n",
    "\n",
    "-- hard coded 15% AR inflation \n",
    "\n",
    "1. grab a random read \n",
    "2. find ranomly select an int between 0 and 120 (length of read)\n",
    "3. sample another read from a dist that:\n",
    "    a. is homologous\n",
    "    b. has same start and end\n",
    "    c. did not come "
   ]
  },
  {
   "cell_type": "code",
   "execution_count": null,
   "metadata": {},
   "outputs": [],
   "source": []
  },
  {
   "cell_type": "code",
   "execution_count": null,
   "metadata": {},
   "outputs": [],
   "source": []
  },
  {
   "cell_type": "code",
   "execution_count": null,
   "metadata": {},
   "outputs": [],
   "source": []
  },
  {
   "cell_type": "code",
   "execution_count": null,
   "metadata": {},
   "outputs": [],
   "source": []
  },
  {
   "cell_type": "code",
   "execution_count": null,
   "metadata": {},
   "outputs": [],
   "source": []
  }
 ],
 "metadata": {
  "kernelspec": {
   "display_name": "Python 3",
   "language": "python",
   "name": "python3"
  },
  "language_info": {
   "codemirror_mode": {
    "name": "ipython",
    "version": 3
   },
   "file_extension": ".py",
   "mimetype": "text/x-python",
   "name": "python",
   "nbconvert_exporter": "python",
   "pygments_lexer": "ipython3",
   "version": "3.7.4"
  }
 },
 "nbformat": 4,
 "nbformat_minor": 2
}
