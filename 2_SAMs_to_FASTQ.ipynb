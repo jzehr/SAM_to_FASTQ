{
 "cells": [
  {
   "cell_type": "markdown",
   "metadata": {},
   "source": [
    "##### pysam docs\n",
    "\n",
    "https://pysam.readthedocs.io/en/latest/index.html"
   ]
  },
  {
   "cell_type": "code",
   "execution_count": 269,
   "metadata": {},
   "outputs": [],
   "source": [
    "import numpy as np\n",
    "import pysam"
   ]
  },
  {
   "cell_type": "markdown",
   "metadata": {},
   "source": [
    "### Grabbing the SAM file and grabbing all the seqs"
   ]
  },
  {
   "cell_type": "code",
   "execution_count": 270,
   "metadata": {},
   "outputs": [],
   "source": [
    "samfile_A = pysam.AlignmentFile(\"pol_a.sam\", \"r\")\n",
    "all_reads_A = samfile_A.fetch()"
   ]
  },
  {
   "cell_type": "code",
   "execution_count": 271,
   "metadata": {},
   "outputs": [],
   "source": [
    "samfile_B = pysam.AlignmentFile(\"pol_b.sam\", \"r\")\n",
    "all_reads_B = samfile_B.fetch()"
   ]
  },
  {
   "cell_type": "markdown",
   "metadata": {},
   "source": [
    "### Gathering reads "
   ]
  },
  {
   "cell_type": "code",
   "execution_count": 272,
   "metadata": {},
   "outputs": [],
   "source": [
    "read_A = next(all_reads_A)\n",
    "read_B = next(all_reads_B)"
   ]
  },
  {
   "cell_type": "code",
   "execution_count": 273,
   "metadata": {},
   "outputs": [],
   "source": [
    "#dir(read_A)"
   ]
  },
  {
   "cell_type": "code",
   "execution_count": 274,
   "metadata": {},
   "outputs": [
    {
     "name": "stdout",
     "output_type": "stream",
     "text": [
      "B.CH.2002.HIV_CH_BID-V3527_2002.JQ403021\n",
      "B.CH.2002.HIV_CH_BID-V3527_2002.JQ403021-10000\n",
      "GTAATACAAGATAATAGTGACATAAAAGTAGTGCCAAGAAGAAAAGCAAAGATCATTAGGGATTATGGAAAACAGATGGCAGGTGATGATTGTGTGGCAGGTAGACAGGATGAGGATTAG\n",
      "120\n",
      "GGGGCGGGGGGGGGGGGGGGGG>GGGGGGGGGGGGDGGGGGGEEGGGGGGDGGGG=GGGGGGGGCGGGFGFGGEGGGG1GGGGGGGGGGGGCGGGGCDGGGGGGGGGG//GGFGFCCCCC\n",
      "99\n",
      "0\n",
      "120\n"
     ]
    }
   ],
   "source": [
    "print(read_A.reference_name)\n",
    "print(read_A.qname)\n",
    "print(read_A.query_alignment_sequence)\n",
    "print(read_A.query_alignment_length)\n",
    "print(read_A.qual)\n",
    "print(read_A.mapq)\n",
    "print(read_A.qstart)\n",
    "print(read_A.qend)"
   ]
  },
  {
   "cell_type": "markdown",
   "metadata": {},
   "source": [
    "### These will be the steps in the selection process for selecting a seq to recombine with"
   ]
  },
  {
   "cell_type": "markdown",
   "metadata": {},
   "source": [
    "#### The array length will be based on the frequencies of the seqs from a ref in your larger sample"
   ]
  },
  {
   "cell_type": "markdown",
   "metadata": {},
   "source": [
    "#### chose a reference to sample from given the distribution above, the answer (i) will be 0 indexed"
   ]
  },
  {
   "cell_type": "code",
   "execution_count": 331,
   "metadata": {},
   "outputs": [
    {
     "name": "stdout",
     "output_type": "stream",
     "text": [
      "We will grab a read from  pol_a  to Artificially Recombine\n",
      "We will now draw a read from:  pol_b  to Artificially Recombine with  pol_a\n"
     ]
    },
    {
     "ename": "IndexError",
     "evalue": "list index out of range",
     "output_type": "error",
     "traceback": [
      "\u001b[0;31m---------------------------------------------------------------------------\u001b[0m",
      "\u001b[0;31mIndexError\u001b[0m                                Traceback (most recent call last)",
      "\u001b[0;32m<ipython-input-331-9ee68c96785f>\u001b[0m in \u001b[0;36m<module>\u001b[0;34m\u001b[0m\n\u001b[1;32m     23\u001b[0m     ))\n\u001b[1;32m     24\u001b[0m \u001b[0;34m\u001b[0m\u001b[0m\n\u001b[0;32m---> 25\u001b[0;31m     \u001b[0mseq_read_2\u001b[0m \u001b[0;34m=\u001b[0m \u001b[0mgood_reads\u001b[0m\u001b[0;34m[\u001b[0m\u001b[0;36m0\u001b[0m\u001b[0;34m]\u001b[0m\u001b[0;34m.\u001b[0m\u001b[0mseq\u001b[0m\u001b[0;34m\u001b[0m\u001b[0;34m\u001b[0m\u001b[0m\n\u001b[0m\u001b[1;32m     26\u001b[0m     \u001b[0mseq_read_1\u001b[0m \u001b[0;34m=\u001b[0m \u001b[0mread_A\u001b[0m\u001b[0;34m.\u001b[0m\u001b[0mseq\u001b[0m\u001b[0;34m\u001b[0m\u001b[0;34m\u001b[0m\u001b[0m\n\u001b[1;32m     27\u001b[0m \u001b[0;34m\u001b[0m\u001b[0m\n",
      "\u001b[0;31mIndexError\u001b[0m: list index out of range"
     ]
    }
   ],
   "source": [
    "master = {.55: (\"pol_a\",samfile_A), .45: (\"pol_b\",samfile_B)}\n",
    "f = list(master.keys())\n",
    "freqs = np.array(f)\n",
    "\n",
    "for i in range(10):\n",
    "    #np.random.seed()\n",
    "    i = np.random.choice(2, 1, True, freqs)[0]\n",
    "    original_ref = f[i]\n",
    "    ref_1_name, ref_1_file = master[original_ref][0], master[original_ref][1]\n",
    "    print(\"We will grab a read from \", ref_1_name, \" to Artificially Recombine\")\n",
    "\n",
    "    freq_reweight_list = freqs[np.arange(len(freqs)) !=i]\n",
    "    freq_reweight = freq_reweight_list / np.sum(freq_reweight_list)\n",
    "    j = np.random.choice(len(freq_reweight), 1, True, freq_reweight)[0]\n",
    "\n",
    "    ref_to_select = freq_reweight_list[j]\n",
    "    ref_2_name, ref_2_file = master[ref_to_select][0], master[ref_to_select][1]\n",
    "    print(\"We will now draw a read from: \", ref_name, \" to Artificially Recombine with \", ref_1_name)\n",
    "    \n",
    "    good_reads = list(filter(\n",
    "    lambda read: read.reference_start == read_A.reference_start and read.reference_end == read_A.reference_end,\n",
    "    ref_2_file\n",
    "    ))\n",
    "    \n",
    "    seq_read_2 = good_reads[0].seq\n",
    "    seq_read_1 = read_A.seq\n",
    "    \n",
    "    print(\"1 --> \",seq_read_1)\n",
    "    print(\"2 --> \",seq_red_2)\n",
    "    grabber = np.random.randint(len(seq_red_2))\n",
    "    print(grabber)\n",
    "    \n",
    "    indexed_seq_1_start = seq_read_1[:grabber]\n",
    "    indexed_seq_2_end = seq_read_2[grabber:]\n",
    "    \n",
    "    print(\"total len (should be len of read) -->\", len(indexed_seq_2_end) + len(indexed_seq_1_start))\n",
    "    print(\"len of 1--> \",len(indexed_seq_1_start))\n",
    "    print(\"len of 2 -->\",len(indexed_seq_2_end))"
   ]
  },
  {
   "cell_type": "code",
   "execution_count": 324,
   "metadata": {},
   "outputs": [
    {
     "name": "stdout",
     "output_type": "stream",
     "text": [
      "total len (should be len of read) --> 120\n",
      "len of 1-->  79\n",
      "len of 2 --> 41\n"
     ]
    }
   ],
   "source": []
  },
  {
   "cell_type": "code",
   "execution_count": 327,
   "metadata": {},
   "outputs": [
    {
     "data": {
      "text/plain": [
       "120"
      ]
     },
     "execution_count": 327,
     "metadata": {},
     "output_type": "execute_result"
    }
   ],
   "source": []
  },
  {
   "cell_type": "code",
   "execution_count": 326,
   "metadata": {},
   "outputs": [
    {
     "data": {
      "text/plain": [
       "'CAGGTGATGATTGTGTGGCAGGTAGACAGGATGAGGATTAA'"
      ]
     },
     "execution_count": 326,
     "metadata": {},
     "output_type": "execute_result"
    }
   ],
   "source": [
    "indexed_seq_2_end"
   ]
  },
  {
   "cell_type": "code",
   "execution_count": null,
   "metadata": {},
   "outputs": [],
   "source": []
  },
  {
   "cell_type": "code",
   "execution_count": null,
   "metadata": {},
   "outputs": [],
   "source": []
  }
 ],
 "metadata": {
  "kernelspec": {
   "display_name": "Python 3",
   "language": "python",
   "name": "python3"
  },
  "language_info": {
   "codemirror_mode": {
    "name": "ipython",
    "version": 3
   },
   "file_extension": ".py",
   "mimetype": "text/x-python",
   "name": "python",
   "nbconvert_exporter": "python",
   "pygments_lexer": "ipython3",
   "version": "3.7.4"
  }
 },
 "nbformat": 4,
 "nbformat_minor": 2
}
