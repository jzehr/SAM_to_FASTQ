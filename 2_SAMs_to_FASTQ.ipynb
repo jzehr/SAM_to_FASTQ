{
 "cells": [
  {
   "cell_type": "markdown",
   "metadata": {},
   "source": [
    "##### pysam docs\n",
    "\n",
    "https://pysam.readthedocs.io/en/latest/index.html"
   ]
  },
  {
   "cell_type": "code",
   "execution_count": 1,
   "metadata": {},
   "outputs": [],
   "source": [
    "import numpy as np\n",
    "import pysam"
   ]
  },
  {
   "cell_type": "markdown",
   "metadata": {},
   "source": [
    "### Grabbing the SAM file and grabbing all the seqs"
   ]
  },
  {
   "cell_type": "markdown",
   "metadata": {},
   "source": [
    "## Need to set some variables here:\n",
    "\n",
    "    -- SAM files\n",
    "    -- freqs\n",
    "    -- ref names\n",
    "    -- % AR to simulate"
   ]
  },
  {
   "cell_type": "code",
   "execution_count": 15,
   "metadata": {},
   "outputs": [
    {
     "name": "stdout",
     "output_type": "stream",
     "text": [
      "B.US.2008.HIV_US_BID-V4123_2008.JQ403034-9997\t0\t0\t450\t99\t120=\t-1\t-1\t120\tCCTGAAAATCCATACAATACTCCAGTATTTGCCATCAAGAAAAAAGACAGTACTAAATGGAGAAAATTAGTAGATTTCAGAGAACTTAATAAAAGAACTCAAGACTTCTGGGAAGTTCAA\tarray('B', [32, 34, 32, 33, 34, 38, 38, 38, 38, 38, 38, 38, 38, 38, 38, 37, 38, 38, 38, 34, 38, 38, 38, 38, 38, 38, 38, 38, 38, 38, 38, 38, 38, 38, 38, 38, 38, 38, 38, 38, 16, 38, 38, 38, 38, 38, 38, 38, 38, 25, 38, 36, 38, 38, 38, 38, 38, 38, 38, 38, 38, 38, 38, 38, 38, 33, 38, 38, 38, 37, 37, 36, 38, 37, 38, 38, 38, 33, 36, 38, 38, 38, 38, 38, 38, 38, 38, 38, 38, 38, 38, 38, 38, 38, 38, 38, 38, 38, 38, 38, 38, 38, 38, 38, 38, 38, 38, 38, 37, 38, 13, 38, 28, 38, 38, 38, 38, 38, 38, 37])\t[] \n",
      " B.CH.2002.HIV_CH_BID-V3527_2002.JQ403021-9997\t0\t0\t450\t99\t120=\t-1\t-1\t120\tCCTGAAAATCCATACAATACTCCAATATTTGCTATAAAGAAAAAAGACAGTACTAAATGGAGAAAATTAGTAGATTTCAGAGAACTTAATAAGAAAACTCAAGACTTCTGGGAAGTTCAG\tarray('B', [32, 34, 32, 33, 34, 38, 38, 38, 38, 38, 38, 38, 38, 38, 38, 37, 38, 38, 38, 34, 38, 38, 38, 38, 38, 38, 38, 38, 38, 38, 38, 38, 38, 38, 38, 38, 38, 38, 38, 38, 16, 38, 38, 38, 38, 38, 38, 38, 38, 25, 38, 36, 38, 38, 38, 38, 38, 38, 38, 38, 38, 38, 38, 38, 38, 33, 38, 38, 38, 37, 37, 36, 38, 37, 38, 38, 38, 33, 36, 38, 38, 38, 38, 38, 38, 38, 38, 38, 38, 38, 38, 38, 38, 38, 38, 38, 38, 38, 38, 38, 38, 38, 38, 38, 38, 38, 38, 38, 37, 38, 13, 38, 28, 38, 38, 38, 38, 38, 38, 37])\t[] \n",
      " \n",
      "\n",
      "B.US.2008.HIV_US_BID-V4123_2008.JQ403034-9993\t0\t0\t2664\t99\t120=\t-1\t-1\t120\tAGCAGAGATCCACTTTGGAAAGGACCAGCAAAGCTCCTCTGGAAAGGTGAAGGGGCAGTAGTAATTCAAGATAATAGTGACATAAAAGTAGTGCCAAGAAGAAAAGCAAAGATCATTAGG\tarray('B', [34, 34, 33, 33, 34, 29, 38, 38, 38, 38, 38, 38, 38, 38, 38, 38, 38, 38, 38, 38, 38, 38, 38, 38, 38, 38, 38, 38, 38, 38, 38, 38, 38, 38, 38, 38, 38, 38, 38, 36, 38, 38, 38, 38, 38, 38, 38, 36, 38, 38, 38, 38, 38, 38, 38, 38, 38, 14, 34, 37, 38, 16, 38, 38, 38, 38, 16, 38, 38, 38, 33, 38, 33, 31, 38, 38, 38, 38, 33, 38, 38, 38, 38, 38, 36, 38, 38, 29, 38, 35, 38, 38, 37, 38, 38, 37, 38, 26, 31, 38, 38, 15, 38, 38, 38, 35, 28, 38, 38, 38, 38, 38, 38, 38, 23, 38, 38, 38, 38, 38])\t[] \n",
      " B.CH.2002.HIV_CH_BID-V3527_2002.JQ403021-9993\t0\t0\t2664\t99\t120=\t-1\t-1\t120\tAGCAGAGATCCAATTTGGAAAGGACCAGCAAAGCTTCTCTGGAAAGGTGAAGGGGCAGTAGTAATACAAGATAATAGTGACATAAAAGTAGTGCCAAGAAGAAAAGCAAAGATCATTAGG\tarray('B', [34, 34, 33, 33, 34, 29, 38, 38, 38, 38, 38, 38, 38, 38, 38, 38, 38, 38, 38, 38, 38, 38, 38, 38, 38, 38, 38, 38, 38, 38, 38, 38, 38, 38, 38, 38, 38, 38, 38, 36, 38, 38, 38, 38, 38, 38, 38, 36, 38, 38, 38, 38, 38, 38, 38, 38, 38, 14, 34, 37, 38, 16, 38, 38, 38, 38, 16, 38, 38, 38, 33, 38, 33, 31, 38, 38, 38, 38, 33, 38, 38, 38, 38, 38, 36, 38, 38, 29, 38, 35, 38, 38, 37, 38, 38, 37, 38, 26, 31, 38, 38, 15, 38, 38, 38, 35, 28, 38, 38, 38, 38, 38, 38, 38, 23, 38, 38, 38, 38, 38])\t[] \n",
      " \n",
      "\n",
      "B.US.2008.HIV_US_BID-V4123_2008.JQ403034-9989\t0\t0\t2228\t99\t70=1X49=\t-1\t-1\t120\tAGAAGCAGAAGTCATTCCAGCAGAGACAGGACAGGAAACAGCATACTTCCTCTTAAAATTAGCAGGAAGACGGCCAGTAAAAACAGTACATACAGATAATGGCAGCAATTTCACCAGTGC\tarray('B', [34, 34, 33, 32, 34, 16, 38, 38, 38, 38, 38, 38, 38, 38, 38, 38, 29, 38, 38, 31, 38, 33, 38, 38, 38, 38, 33, 38, 38, 38, 38, 38, 38, 38, 38, 38, 38, 38, 38, 38, 38, 38, 38, 38, 38, 38, 38, 38, 38, 36, 31, 38, 29, 38, 38, 38, 38, 38, 38, 38, 38, 38, 38, 38, 38, 38, 35, 38, 38, 38, 15, 38, 38, 38, 38, 38, 38, 38, 38, 38, 38, 38, 38, 37, 38, 38, 38, 38, 38, 38, 38, 38, 36, 38, 33, 38, 38, 38, 38, 15, 38, 38, 35, 38, 38, 38, 25, 38, 33, 38, 38, 38, 38, 38, 38, 38, 38, 36, 38, 38])\t[] \n",
      " B.CH.2002.HIV_CH_BID-V3527_2002.JQ403021-9989\t0\t0\t2228\t99\t70=1X49=\t-1\t-1\t120\tAGAGGCAGAAGTTATTCCAGCAGAAACAGGGCAGGAAACAGCATACTTTCTCTTGAAGTTAGCAGGAAGACGGCCAGTAAAAACAATACATACAGACAATGGCAGCAATTTCACCAGTAC\tarray('B', [34, 34, 33, 32, 34, 16, 38, 38, 38, 38, 38, 38, 38, 38, 38, 38, 29, 38, 38, 31, 38, 33, 38, 38, 38, 38, 33, 38, 38, 38, 38, 38, 38, 38, 38, 38, 38, 38, 38, 38, 38, 38, 38, 38, 38, 38, 38, 38, 38, 36, 31, 38, 29, 38, 38, 38, 38, 38, 38, 38, 38, 38, 38, 38, 38, 38, 35, 38, 38, 38, 15, 38, 38, 38, 38, 38, 38, 38, 38, 38, 38, 38, 38, 37, 38, 38, 38, 38, 38, 38, 38, 38, 36, 38, 33, 38, 38, 38, 38, 15, 38, 38, 35, 38, 38, 38, 25, 38, 33, 38, 38, 38, 38, 38, 38, 38, 38, 36, 38, 38])\t[] \n",
      " \n",
      "\n"
     ]
    }
   ],
   "source": [
    "samfile_A = pysam.AlignmentFile(\"pol_a.sam\", \"r\")\n",
    "samfile_B = pysam.AlignmentFile(\"pol_b.sam\", \"r\")\n",
    "\n",
    "# all_reads_A = samfile_A.fetch()\n",
    "# all_reads_B = samfile_B.fetch()\n",
    "\n",
    "# read_A = next(all_reads_A)\n",
    "# read_B = next(all_reads_B)\n",
    "\n",
    "master = {.55: (\"pol_a\", samfile_A), .45: (\"pol_b\", samfile_B)}\n",
    "f = list(master.keys())\n",
    "freqs = np.array(f)\n",
    "\n",
    "## this is just to test \n",
    "reads_a = master[.45][1]\n",
    "reads_b = master[.55][1]\n",
    "# read = next(reads)\n",
    "# print(read)\n",
    "\n",
    "for i in range(3):\n",
    "    new_read_a = []\n",
    "    new_read_b = []\n",
    "    for i in range(4):\n",
    "        x_a = next(reads_a)\n",
    "        y_b = next(reads_b)\n",
    "        new_read_a.append(x_a)\n",
    "        new_read_b.append(y_b)\n",
    "    \n",
    "    print(new_read_a[-1],\"\\n\", new_read_b[-1],\"\\n\", \"\\n\")\n",
    "\n"
   ]
  },
  {
   "cell_type": "code",
   "execution_count": 3,
   "metadata": {},
   "outputs": [
    {
     "name": "stdout",
     "output_type": "stream",
     "text": [
      "\n",
      "\n",
      "0.45\n",
      "We will grab a read from pol_b to Artificially Recombine\n",
      "B.US.2008.HIV_US_BID-V4123_2008.JQ403034-9997\n",
      "selecting -->  0.55\n",
      "We will now draw a read from:  pol_a  to Artificially Recombine with  pol_b\n",
      "<pysam.libcalignmentfile.AlignmentFile object at 0x10c147e10>\n",
      "450 570\n",
      "[<pysam.libcalignedsegment.AlignedSegment object at 0x11b442440>, <pysam.libcalignedsegment.AlignedSegment object at 0x11b442590>, <pysam.libcalignedsegment.AlignedSegment object at 0x11b442830>, <pysam.libcalignedsegment.AlignedSegment object at 0x11b442670>]\n",
      "\n",
      "\n",
      "0.55\n",
      "We will grab a read from pol_a to Artificially Recombine\n"
     ]
    }
   ],
   "source": [
    "f = list(master.keys())\n",
    "freqs = np.array(f)\n",
    "\n",
    "for q in range(2):    \n",
    "    try:\n",
    "        print(\"\\n\")\n",
    "        i = np.random.choice(2, 1, True, freqs)[0]\n",
    "        original_ref = f[i]\n",
    "\n",
    "        ## this will be one of the refs\n",
    "        print(original_ref)\n",
    "        ref_1_name, reads_a = master[original_ref][0], master[original_ref][1]\n",
    "        print(\"We will grab a read from\", ref_1_name, \"to Artificially Recombine\")\n",
    "\n",
    "        ## do we always want to just grab the next, or jump ahead, jump behind, etc ##\n",
    "        #seq_getter = np.random.randint(len(list(reads_1)))\n",
    "        \n",
    "        read_a = next(reads_a)  \n",
    "        print(read_a.qname)\n",
    "        \n",
    "        ## re order the list based on the freqs\n",
    "        freq_reweight_list = freqs[np.arange(len(freqs)) !=i]\n",
    "        freq_reweight = freq_reweight_list / np.sum(freq_reweight_list)\n",
    "        j = np.random.choice(len(freq_reweight), 1, True, freq_reweight)[0]\n",
    "\n",
    "\n",
    "        ## now grab the info from the other ref ## \n",
    "        ref_to_select = freq_reweight_list[j]\n",
    "        print(\"selecting --> \", ref_to_select)\n",
    "        ref_2_name, reads_b = master[ref_to_select][0], master[ref_to_select][1]\n",
    "        print(\"We will now draw a read from: \", ref_2_name, \" to Artificially Recombine with \", ref_1_name)\n",
    "\n",
    "        print(reads_b)\n",
    "        print(read_a.reference_start, read_a.reference_end)\n",
    "        \n",
    "        \n",
    "        good_reads = list(filter(\n",
    "        lambda read: read.reference_start == read_a.reference_start and read.reference_end == read_a.reference_end,\n",
    "        reads_b\n",
    "        ))\n",
    "\n",
    "        print(good_reads)\n",
    "        \n",
    "    \n",
    "    except StopIteration:\n",
    "        pass\n",
    "\n",
    "    \n",
    "\n",
    "    '''\n",
    "    if len(good_reads) == 0:\n",
    "        continue\n",
    "    else:\n",
    "        seq_read_2 = good_reads[0].seq\n",
    "        seq_read_1 = read_1.seq\n",
    "    \n",
    "        print(\"1 --> \",seq_read_1)\n",
    "        print(\"2 --> \",seq_red_2)\n",
    "        grabber = np.random.randint(len(seq_red_2))\n",
    "        print(\"random grabber --> \", grabber)\n",
    "\n",
    "        indexed_seq_1_start = seq_read_1[:grabber]\n",
    "        indexed_seq_2_end = seq_read_2[grabber:]\n",
    "\n",
    "        print(\"total len (should be len of read) -->\", len(indexed_seq_2_end) + len(indexed_seq_1_start))\n",
    "        print(\"len of 1--> \",len(indexed_seq_1_start))\n",
    "        print(\"len of 2 -->\",len(indexed_seq_2_end))\n",
    "        print(\"\\n\")\n",
    "    '''"
   ]
  },
  {
   "cell_type": "code",
   "execution_count": null,
   "metadata": {},
   "outputs": [],
   "source": []
  },
  {
   "cell_type": "code",
   "execution_count": null,
   "metadata": {},
   "outputs": [],
   "source": []
  }
 ],
 "metadata": {
  "kernelspec": {
   "display_name": "Python 3",
   "language": "python",
   "name": "python3"
  },
  "language_info": {
   "codemirror_mode": {
    "name": "ipython",
    "version": 3
   },
   "file_extension": ".py",
   "mimetype": "text/x-python",
   "name": "python",
   "nbconvert_exporter": "python",
   "pygments_lexer": "ipython3",
   "version": "3.7.4"
  }
 },
 "nbformat": 4,
 "nbformat_minor": 2
}
