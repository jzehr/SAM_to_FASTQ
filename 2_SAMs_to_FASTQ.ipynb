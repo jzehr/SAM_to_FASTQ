{
 "cells": [
  {
   "cell_type": "markdown",
   "metadata": {},
   "source": [
    "##### pysam docs\n",
    "\n",
    "https://pysam.readthedocs.io/en/latest/index.html"
   ]
  },
  {
   "cell_type": "code",
   "execution_count": 1,
   "metadata": {},
   "outputs": [],
   "source": [
    "import numpy as np\n",
    "import pysam\n",
    "from collections import Counter\n",
    "import csv"
   ]
  },
  {
   "cell_type": "markdown",
   "metadata": {},
   "source": [
    "## Need to set some variables here:\n",
    "\n",
    "    -- SAM files\n",
    "    -- freqs\n",
    "    -- ref names\n",
    "    -- % AR to simulate"
   ]
  },
  {
   "cell_type": "markdown",
   "metadata": {},
   "source": [
    "#### Set it such that A is head and B is tails (** will need to modify later **)"
   ]
  },
  {
   "cell_type": "code",
   "execution_count": 2,
   "metadata": {},
   "outputs": [],
   "source": [
    "samfile_A = pysam.AlignmentFile(\"pol_a.sam\", \"r\")\n",
    "all_reads_A = list(samfile_A.fetch())\n",
    "\n",
    "samfile_B = pysam.AlignmentFile(\"pol_b.sam\", \"r\")\n",
    "all_reads_B = list(samfile_B.fetch())"
   ]
  },
  {
   "cell_type": "code",
   "execution_count": 3,
   "metadata": {},
   "outputs": [
    {
     "name": "stdout",
     "output_type": "stream",
     "text": [
      "reads in A -->  10000\n",
      "reads in B -->  10000\n"
     ]
    }
   ],
   "source": [
    "print(\"reads in A --> \", len(all_reads_A))\n",
    "print(\"reads in B --> \", len(all_reads_B))"
   ]
  },
  {
   "cell_type": "markdown",
   "metadata": {},
   "source": [
    "#### determining the number of times to loop over to generate a read "
   ]
  },
  {
   "cell_type": "code",
   "execution_count": 4,
   "metadata": {},
   "outputs": [],
   "source": [
    "per_15 = int(len(all_reads_A) * .15)\n",
    "over_estimate = int(len(all_reads_A) * .50)\n",
    "\n",
    "other_reads_a = int(len(all_reads_A) - per_15)\n",
    "other_reads_b = int(len(all_reads_B) - per_15)\n"
   ]
  },
  {
   "cell_type": "markdown",
   "metadata": {},
   "source": [
    "#### Gathering the random reads we want mess with"
   ]
  },
  {
   "cell_type": "code",
   "execution_count": 5,
   "metadata": {},
   "outputs": [
    {
     "name": "stdout",
     "output_type": "stream",
     "text": [
      "3600\n",
      "5000\n",
      "GGGGGGGDGGGGGGGGGGCGGG0CFGGGGGGG/>GGGGGGFGGGGBGEG=GG1GGGGGGGGGGGGGGCFGGGGGGCGGGGDG1GG1GGGCGGGGGGGGG0GGGGGGGGDDGG1GGC0BCB\n"
     ]
    }
   ],
   "source": [
    "sampled_read_data = []\n",
    "for number in range(over_estimate):\n",
    "    #print(number)\n",
    "    seq_grabber = np.random.randint(len(all_reads_A))\n",
    "    #print(seq_grabber)\n",
    "    temp = {}\n",
    "    temp[all_reads_A[seq_grabber], number] = seq_grabber\n",
    "    sampled_read_data.append(temp)\n",
    "  \n",
    "print(list(sampled_read_data[0].values())[0])\n",
    "#B.CH.2002.HIV_CH_BID-V3527_2002.JQ403021-774\n",
    "print(len(sampled_read_data))\n",
    "print(list(sampled_read_data[0].keys())[0][0].qual)"
   ]
  },
  {
   "cell_type": "markdown",
   "metadata": {},
   "source": [
    "### This is just to check about how many matching reads we are finding"
   ]
  },
  {
   "cell_type": "code",
   "execution_count": 6,
   "metadata": {},
   "outputs": [
    {
     "name": "stdout",
     "output_type": "stream",
     "text": [
      "we have all the seqs we need!!\n",
      "1500\n"
     ]
    }
   ],
   "source": [
    "\n",
    "count_found = 0\n",
    "good_reads = []\n",
    "for i in sampled_read_data:\n",
    "    read_a = list(i.keys())[0][0]\n",
    "    ind = list(i.values())[0]\n",
    "\n",
    "    original_ind = (read_a.reference_start, read_a.reference_end)\n",
    "    #print(original_ind)\n",
    "    \n",
    "    read_b = all_reads_B[ind]\n",
    "    read_b_ind = (read_b.reference_start, read_b.reference_end)\n",
    "    #print(read_b_ind)\n",
    "    \n",
    "    if original_ind == read_b_ind:\n",
    "        good_reads.append((read_a, read_b))\n",
    "        count_found += 1\n",
    "    else:\n",
    "        continue\n",
    "    #read_b = \n",
    "    \n",
    "    if count_found == per_15:\n",
    "        #print(count_found)\n",
    "        print(\"we have all the seqs we need!!\")\n",
    "        break\n",
    "        \n",
    "#print(count_found)\n",
    "print(len(good_reads))\n",
    "#good_reads"
   ]
  },
  {
   "cell_type": "markdown",
   "metadata": {},
   "source": [
    "#### dont like that we are passing around this large list "
   ]
  },
  {
   "cell_type": "code",
   "execution_count": 7,
   "metadata": {},
   "outputs": [
    {
     "ename": "NameError",
     "evalue": "name 'count' is not defined",
     "output_type": "error",
     "traceback": [
      "\u001b[0;31m---------------------------------------------------------------------------\u001b[0m",
      "\u001b[0;31mNameError\u001b[0m                                 Traceback (most recent call last)",
      "\u001b[0;32m<ipython-input-7-07b4b91d083b>\u001b[0m in \u001b[0;36m<module>\u001b[0;34m\u001b[0m\n\u001b[1;32m     18\u001b[0m             \u001b[0mr_a\u001b[0m\u001b[0;34m,\u001b[0m \u001b[0mr_b\u001b[0m \u001b[0;34m=\u001b[0m \u001b[0mtemp\u001b[0m\u001b[0;34m[\u001b[0m\u001b[0;36m0\u001b[0m\u001b[0;34m]\u001b[0m\u001b[0;34m,\u001b[0m \u001b[0mtemp\u001b[0m\u001b[0;34m[\u001b[0m\u001b[0;36m1\u001b[0m\u001b[0;34m]\u001b[0m\u001b[0;34m\u001b[0m\u001b[0;34m\u001b[0m\u001b[0m\n\u001b[1;32m     19\u001b[0m \u001b[0;34m\u001b[0m\u001b[0m\n\u001b[0;32m---> 20\u001b[0;31m             \u001b[0mprint\u001b[0m\u001b[0;34m(\u001b[0m\u001b[0mcount\u001b[0m\u001b[0;34m,\u001b[0m \u001b[0;34m\": match: comparing \"\u001b[0m \u001b[0;34m+\u001b[0m \u001b[0mr_a\u001b[0m\u001b[0;34m.\u001b[0m\u001b[0mqname\u001b[0m \u001b[0;34m+\u001b[0m \u001b[0;34m\" to \"\u001b[0m \u001b[0;34m+\u001b[0m \u001b[0mr_b\u001b[0m\u001b[0;34m.\u001b[0m\u001b[0mqname\u001b[0m \u001b[0;34m+\u001b[0m \u001b[0;34m\"\\n\"\u001b[0m\u001b[0;34m)\u001b[0m\u001b[0;34m\u001b[0m\u001b[0;34m\u001b[0m\u001b[0m\n\u001b[0m\u001b[1;32m     21\u001b[0m             '''\n\u001b[1;32m     22\u001b[0m             \u001b[0mhere\u001b[0m \u001b[0mI\u001b[0m \u001b[0mneed\u001b[0m \u001b[0mto\u001b[0m\u001b[0;34m:\u001b[0m\u001b[0;34m\u001b[0m\u001b[0;34m\u001b[0m\u001b[0m\n",
      "\u001b[0;31mNameError\u001b[0m: name 'count' is not defined"
     ]
    }
   ],
   "source": [
    "'''\n",
    "                                            0                                        1 \n",
    "                                    0                                           1    \n",
    "tuple 0 = ((<pysam.libcalignedsegment.AlignedSegment object at 0x7f4f6fd39a68>, 0), 8535)\n",
    "\n",
    "'''\n",
    "# count = 0\n",
    "# count_a_b = 0\n",
    "with open(\".fastq\", \"w\") as out:\n",
    "    for i in range(len(all_reads_A)):\n",
    "        if i < len(good_reads):\n",
    "            # write AR reads to file\n",
    "            #count += 1\n",
    "        \n",
    "            ## randomly grab a seq ## \n",
    "            seq_getter = np.random.randint(len(good_reads))\n",
    "            temp = good_reads[seq_getter]\n",
    "            r_a, r_b = temp[0], temp[1]\n",
    "\n",
    "            #print(count, \": match: comparing \" + r_a.qname + \" to \" + r_b.qname + \"\\n\")\n",
    "            '''\n",
    "            here I need to:\n",
    "                1. index one seq from the other\n",
    "                2. combine the seqs\n",
    "                    a. label\n",
    "                    b. joined seq\n",
    "                    c. joined q-score\n",
    "\n",
    "            '''\n",
    "            seq_splitter = np.random.randint(len(r_a.seq))\n",
    "            print(seq_splitter)\n",
    "            r_start = r_a.seq[:seq_splitter]\n",
    "            r_end = r_b.seq[seq_splitter:]\n",
    "\n",
    "            joined_label = r_a.qname + r_b.qname\n",
    "            joined_seq = r_start+r_end\n",
    "            joined_q = r_a.qual[:seq_splitter] + r_b.qual[seq_splitter:]\n",
    "\n",
    "            \n",
    "            #label = \"some_label\"\n",
    "            #joined_seq = \"seq-ACTG\"\n",
    "            #joined_q = \"q-asdflk\"\n",
    "\n",
    "            out.write(\"{}\\n{}\\n+\\n{}\\n\".format(joined_label, joined_seq, joined_q)) \n",
    "            \n",
    "        \n",
    "#         if count == 10:\n",
    "#             print(\"all done\")\n",
    "#             break\n",
    "            \n",
    "        else:\n",
    "            ## jsut write everything else here\n",
    "            seq_getter = np.random.randint(len(all_reads_A))\n",
    "            r_a = all_reads_A[seq_getter]\n",
    "            r_b = all_reads_B[seq_getter]\n",
    "            \n",
    "            out.write(\"{}\\n{}\\n+\\n{}\\n\".format(read_a.qname, r_a.seq, r_a.qual)) \n",
    "            out.write(\"{}\\n{}\\n+\\n{}\\n\".format(read_b.qname, r_b.seq, r_b.qual)) \n",
    "\n",
    "        \n"
   ]
  },
  {
   "cell_type": "code",
   "execution_count": null,
   "metadata": {},
   "outputs": [],
   "source": []
  },
  {
   "cell_type": "code",
   "execution_count": null,
   "metadata": {},
   "outputs": [],
   "source": []
  },
  {
   "cell_type": "code",
   "execution_count": null,
   "metadata": {},
   "outputs": [],
   "source": []
  },
  {
   "cell_type": "code",
   "execution_count": null,
   "metadata": {},
   "outputs": [],
   "source": []
  },
  {
   "cell_type": "code",
   "execution_count": null,
   "metadata": {},
   "outputs": [],
   "source": [
    "#master = {\"pol_a\": (.5, all_reads_A), \"pol_b\":(.5, all_reads_B)}"
   ]
  },
  {
   "cell_type": "code",
   "execution_count": null,
   "metadata": {},
   "outputs": [],
   "source": [
    "'''\n",
    "f = list(master.keys())\n",
    "freqs = np.array(f)\n",
    "\n",
    "## choice from freq ##\n",
    "i = np.random.choice(2, 1, True, freqs)[0]\n",
    "original_ref = f[i]\n",
    "\n",
    "## re order the list based on the freqs\n",
    "freq_reweight_list = freqs[np.arange(len(freqs)) !=i]\n",
    "freq_reweight = freq_reweight_list / np.sum(freq_reweight_list)\n",
    "j = np.random.choice(len(freq_reweight), 1, True, freq_reweight)[0]\n",
    "\n",
    "## this will return reads that match        \n",
    "good_reads = list(filter(\n",
    "lambda read: read.reference_start == read_a.reference_start and read.reference_end == read_a.reference_end,\n",
    "reads_b\n",
    "))\n",
    "\n",
    "## this might be useful to index each sequence against each other \n",
    "grabber = np.random.randint(len(seq_red_2))\n",
    "print(\"random grabber --> \", grabber)\n",
    "\n",
    "indexed_seq_1_start = seq_read_1[:grabber]\n",
    "indexed_seq_2_end = seq_read_2[grabber:]\n",
    "'''\n"
   ]
  },
  {
   "cell_type": "code",
   "execution_count": null,
   "metadata": {},
   "outputs": [],
   "source": []
  },
  {
   "cell_type": "code",
   "execution_count": null,
   "metadata": {},
   "outputs": [],
   "source": []
  }
 ],
 "metadata": {
  "kernelspec": {
   "display_name": "Python 3",
   "language": "python",
   "name": "python3"
  },
  "language_info": {
   "codemirror_mode": {
    "name": "ipython",
    "version": 3
   },
   "file_extension": ".py",
   "mimetype": "text/x-python",
   "name": "python",
   "nbconvert_exporter": "python",
   "pygments_lexer": "ipython3",
   "version": "3.6.8"
  }
 },
 "nbformat": 4,
 "nbformat_minor": 2
}
